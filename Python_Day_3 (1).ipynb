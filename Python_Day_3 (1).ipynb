{
  "nbformat": 4,
  "nbformat_minor": 0,
  "metadata": {
    "colab": {
      "provenance": []
    },
    "kernelspec": {
      "name": "python3",
      "display_name": "Python 3"
    },
    "language_info": {
      "name": "python"
    }
  },
  "cells": [
    {
      "cell_type": "code",
      "execution_count": 18,
      "metadata": {
        "colab": {
          "base_uri": "https://localhost:8080/"
        },
        "id": "54YpeCU9zOkQ",
        "outputId": "d942bd6e-a4be-437d-aff2-88f23c3a370b"
      },
      "outputs": [
        {
          "output_type": "stream",
          "name": "stdout",
          "text": [
            "Ujjwal\n",
            "1234567890\n",
            "32\n",
            "Ujjwal 1234567890 32\n"
          ]
        }
      ],
      "source": [
        "# Dictionary (2nd Mutable Data type)\n",
        "\n",
        "'''\n",
        "KEY  :  VALUE\n",
        "\n",
        "Name :  Ujjwal\n",
        "Age  :    32\n",
        "Number :  1234567890\n",
        "'''\n",
        "dict1 ={ \"Name\" : \"Ujjwal\"  , \"Age\":32   , \"Number\":1234567890 }\n",
        "\n",
        "# No concept of Indexing in dictionary so use key names to perform any operation.\n",
        "print(dict1[ \"Name\" ])\n",
        "print(dict1[\"Number\"])\n",
        "print(dict1[\"Age\"])\n",
        "\n",
        "# Can be print in one statement?\n",
        "print( dict1[ \"Name\" ] ,  dict1[\"Number\"] ,  dict1[\"Age\"] )"
      ]
    },
    {
      "cell_type": "code",
      "source": [
        "# How to add new key value pair in dictionary\n",
        "print(dict1)\n",
        "\n",
        "# add address also\n",
        "dict1[ \"Address \"] = \"Banglore\"\n",
        "\n",
        "print(dict1)\n",
        "\n",
        "# add salary also\n",
        "dict1[\"salary\"]=120000\n",
        "\n",
        "print(dict1)"
      ],
      "metadata": {
        "colab": {
          "base_uri": "https://localhost:8080/"
        },
        "id": "uhdVSRHn8sQH",
        "outputId": "11c235f2-c894-46f4-96a7-300eac31f0e0"
      },
      "execution_count": 19,
      "outputs": [
        {
          "output_type": "stream",
          "name": "stdout",
          "text": [
            "{'Name': 'Ujjwal', 'Age': 32, 'Number': 1234567890}\n",
            "{'Name': 'Ujjwal', 'Age': 32, 'Number': 1234567890, 'Address ': 'Banglore'}\n",
            "{'Name': 'Ujjwal', 'Age': 32, 'Number': 1234567890, 'Address ': 'Banglore', 'salary': 120000}\n"
          ]
        }
      ]
    },
    {
      "cell_type": "code",
      "source": [
        "# How to remove key value pair in dictionary\n",
        "\n",
        "dict1.pop(\"salary\")\n",
        "\n",
        "print(dict1)"
      ],
      "metadata": {
        "colab": {
          "base_uri": "https://localhost:8080/"
        },
        "id": "5xdc6pjS9dVP",
        "outputId": "f629719f-feec-4377-d76a-f8ff90447956"
      },
      "execution_count": 20,
      "outputs": [
        {
          "output_type": "stream",
          "name": "stdout",
          "text": [
            "{'Name': 'Ujjwal', 'Age': 32, 'Number': 1234567890, 'Address ': 'Banglore'}\n"
          ]
        }
      ]
    },
    {
      "cell_type": "code",
      "source": [
        "# How to update the value of any key\n",
        "\n",
        "# change/update Number from 1234567890 to 1122334455\n",
        "dict1[\"Number\"] =1122334455\n",
        "\n",
        "print(dict1)\n",
        "\n",
        "# change/update address from banglore to south west banglore\n",
        "dict1[\"Address \"]=\"South West banglore\"\n",
        "\n",
        "print(dict1)"
      ],
      "metadata": {
        "colab": {
          "base_uri": "https://localhost:8080/"
        },
        "id": "nZREYweS93Fo",
        "outputId": "8fb0497c-f5a8-42a7-a2af-436db32501c5"
      },
      "execution_count": 21,
      "outputs": [
        {
          "output_type": "stream",
          "name": "stdout",
          "text": [
            "{'Name': 'Ujjwal', 'Age': 32, 'Number': 1122334455, 'Address ': 'Banglore'}\n",
            "{'Name': 'Ujjwal', 'Age': 32, 'Number': 1122334455, 'Address ': 'South West banglore'}\n"
          ]
        }
      ]
    },
    {
      "cell_type": "code",
      "source": [
        "# how about multiple entries..\n",
        "# Can we have multiple keys with same name  ? - NO  YOU CANNOT HAVE MULTIPLE KEYS WITH SAME NAME\n",
        "\n",
        "dict1={'Name': 'Ujjwal', 'Age': 32, 'Number': 1122334455, 'Address ': 'South West banglore'}\n",
        "\n",
        "dict1[\"Age\"]=42\n",
        "print(dict1)"
      ],
      "metadata": {
        "colab": {
          "base_uri": "https://localhost:8080/"
        },
        "id": "E9brRusN_vUx",
        "outputId": "75e112a4-0332-40a6-ecd1-15f52b613117"
      },
      "execution_count": 24,
      "outputs": [
        {
          "output_type": "stream",
          "name": "stdout",
          "text": [
            "{'Name': 'Ujjwal', 'Age': 42, 'Number': 1122334455, 'Address ': 'South West banglore'}\n"
          ]
        }
      ]
    },
    {
      "cell_type": "code",
      "source": [
        "# SET ( Mutable data type ) - It store unique data only , if duplicte data is added automatically it is going to remove it.\n",
        "\n",
        "set1 ={ \"Apple\" , \"Banana\" , \"Cheery\" ,\"Berry\" , \"Watermelon\" , \"Apple\" , \"Orange\"}\n",
        "print(set1)"
      ],
      "metadata": {
        "colab": {
          "base_uri": "https://localhost:8080/"
        },
        "id": "wnmsnXsFA3im",
        "outputId": "4e23dc34-a596-4e7a-a44a-72eb006aedcb"
      },
      "execution_count": 25,
      "outputs": [
        {
          "output_type": "stream",
          "name": "stdout",
          "text": [
            "{'Berry', 'Cheery', 'Watermelon', 'Apple', 'Orange', 'Banana'}\n"
          ]
        }
      ]
    },
    {
      "cell_type": "code",
      "source": [
        "# Add new value to set\n",
        "\n",
        "set1.add(\"Grapes\")\n",
        "\n",
        "print(set1)\n",
        "\n",
        "set1.add(\"Papaya\")\n",
        "\n",
        "print(set1)"
      ],
      "metadata": {
        "colab": {
          "base_uri": "https://localhost:8080/"
        },
        "id": "rhuiKVKODQEL",
        "outputId": "39013786-2710-47df-f0fe-af6ed9f5f96d"
      },
      "execution_count": 27,
      "outputs": [
        {
          "output_type": "stream",
          "name": "stdout",
          "text": [
            "{'Berry', 'Grapes', 'Cheery', 'Watermelon', 'Apple', 'Orange', 'Banana'}\n",
            "{'Berry', 'Grapes', 'Cheery', 'Papaya', 'Watermelon', 'Apple', 'Orange', 'Banana'}\n"
          ]
        }
      ]
    },
    {
      "cell_type": "code",
      "source": [
        "# How to remove watermelon\n",
        "\n",
        "set1.remove(\"Watermelon\")\n",
        "\n",
        "print(set1)"
      ],
      "metadata": {
        "colab": {
          "base_uri": "https://localhost:8080/"
        },
        "id": "QtH1c48PDlX-",
        "outputId": "09f7060a-b868-4e4e-a82f-bcc318356cad"
      },
      "execution_count": 29,
      "outputs": [
        {
          "output_type": "stream",
          "name": "stdout",
          "text": [
            "{'Berry', 'Grapes', 'Cheery', 'Papaya', 'Apple', 'Orange', 'Banana'}\n"
          ]
        }
      ]
    },
    {
      "cell_type": "code",
      "source": [
        "'''\n",
        "in list can we print the string character of the index\n",
        "value ex list1 ('ujjwal','srinivas') need to print u or s\n",
        "'''\n",
        "\n",
        "list1=[\"Ujjwal\" , \"srinivas\"]\n",
        "\n",
        "# I want to print \"U\" of ujjwal and \"s\" of srinivas\n",
        "\n",
        "print(list1[0][0] , list1[1][0])\n",
        "\n",
        "\n",
        "#Print \"U\" first letter of ujjwal and \"l\" last letter of ujjwal\n",
        "print(list1[0][0]  , list1[0][5])"
      ],
      "metadata": {
        "colab": {
          "base_uri": "https://localhost:8080/"
        },
        "id": "ZUn9mwC0E4g1",
        "outputId": "dd57ffb6-56db-44c7-ef40-46056f162acf"
      },
      "execution_count": 35,
      "outputs": [
        {
          "output_type": "stream",
          "name": "stdout",
          "text": [
            "U s\n",
            "U l\n"
          ]
        }
      ]
    },
    {
      "cell_type": "code",
      "source": [
        "list1=[1,\"Watermelon\",2,3,\"Cheery\" ,4,\"Apple\",\"Banana\"]\n",
        "\n",
        "# Find the index of \"Apple\" without calculating it manually\n",
        "\n",
        "list1.index(\"Apple\")"
      ],
      "metadata": {
        "colab": {
          "base_uri": "https://localhost:8080/"
        },
        "id": "o5Gi9DnXGGww",
        "outputId": "c4710b2f-bd79-44a4-ac5e-3131115ff1d7"
      },
      "execution_count": 36,
      "outputs": [
        {
          "output_type": "execute_result",
          "data": {
            "text/plain": [
              "6"
            ]
          },
          "metadata": {},
          "execution_count": 36
        }
      ]
    },
    {
      "cell_type": "markdown",
      "source": [
        "tup1=( , , ,  ) Round brackets for tuples\n",
        "\n",
        "list1= [ , , , ] square brackets for list\n",
        "\n",
        "dict1={ key:value  , key:value  } curly brackets in dictionary\n",
        "\n",
        "set1 ={ , , , ,  }"
      ],
      "metadata": {
        "id": "_lwB8gcN6ywO"
      }
    },
    {
      "cell_type": "markdown",
      "source": [
        "# Loops\n",
        "\n",
        "1) for loop\n",
        "\n",
        "2) while loop"
      ],
      "metadata": {
        "id": "9RtK8QVMGnTz"
      }
    },
    {
      "cell_type": "code",
      "source": [
        "# I want to print numbers from 1 to 100\n",
        "\n",
        "print(1,2,3,4,5,6,7,8,9,10)"
      ],
      "metadata": {
        "colab": {
          "base_uri": "https://localhost:8080/"
        },
        "id": "0sirY-lJGq8d",
        "outputId": "509a77f9-c159-489a-bc51-b336111da353"
      },
      "execution_count": 37,
      "outputs": [
        {
          "output_type": "stream",
          "name": "stdout",
          "text": [
            "1 2 3 4 5 6 7 8 9 10\n"
          ]
        }
      ]
    },
    {
      "cell_type": "code",
      "source": [
        "# for loop   - It runs 1 less than your ending range\n",
        "\n",
        "for i in range(1,101):   #range (start point  , end point +1 )\n",
        "  print(i)"
      ],
      "metadata": {
        "colab": {
          "base_uri": "https://localhost:8080/"
        },
        "id": "AwsH35yCG8S9",
        "outputId": "5d21cc16-7d71-4bf2-cf31-fac4cb73599c"
      },
      "execution_count": 40,
      "outputs": [
        {
          "output_type": "stream",
          "name": "stdout",
          "text": [
            "1\n",
            "2\n",
            "3\n",
            "4\n",
            "5\n",
            "6\n",
            "7\n",
            "8\n",
            "9\n",
            "10\n",
            "11\n",
            "12\n",
            "13\n",
            "14\n",
            "15\n",
            "16\n",
            "17\n",
            "18\n",
            "19\n",
            "20\n",
            "21\n",
            "22\n",
            "23\n",
            "24\n",
            "25\n",
            "26\n",
            "27\n",
            "28\n",
            "29\n",
            "30\n",
            "31\n",
            "32\n",
            "33\n",
            "34\n",
            "35\n",
            "36\n",
            "37\n",
            "38\n",
            "39\n",
            "40\n",
            "41\n",
            "42\n",
            "43\n",
            "44\n",
            "45\n",
            "46\n",
            "47\n",
            "48\n",
            "49\n",
            "50\n",
            "51\n",
            "52\n",
            "53\n",
            "54\n",
            "55\n",
            "56\n",
            "57\n",
            "58\n",
            "59\n",
            "60\n",
            "61\n",
            "62\n",
            "63\n",
            "64\n",
            "65\n",
            "66\n",
            "67\n",
            "68\n",
            "69\n",
            "70\n",
            "71\n",
            "72\n",
            "73\n",
            "74\n",
            "75\n",
            "76\n",
            "77\n",
            "78\n",
            "79\n",
            "80\n",
            "81\n",
            "82\n",
            "83\n",
            "84\n",
            "85\n",
            "86\n",
            "87\n",
            "88\n",
            "89\n",
            "90\n",
            "91\n",
            "92\n",
            "93\n",
            "94\n",
            "95\n",
            "96\n",
            "97\n",
            "98\n",
            "99\n",
            "100\n"
          ]
        }
      ]
    },
    {
      "cell_type": "code",
      "source": [
        "# how we can increase number by 2 or 3 in for loop  means print number with a gap of 2 or 3\n",
        "\n",
        "# Print number normally from 1 to 15\n",
        "for i in range(1,16):   #( start , end +1 )\n",
        "  print(i)\n",
        "\n",
        "# Now print numbers with a gap of 2\n",
        "for i in range( 1 , 16 , 2) :    #( start , end +1 ,  gap )\n",
        "  print(i)"
      ],
      "metadata": {
        "colab": {
          "base_uri": "https://localhost:8080/"
        },
        "id": "39oyGk8pK5bI",
        "outputId": "96414461-8c83-4dd4-c809-5fab5cfe636b"
      },
      "execution_count": 54,
      "outputs": [
        {
          "output_type": "stream",
          "name": "stdout",
          "text": [
            "1\n",
            "2\n",
            "3\n",
            "4\n",
            "5\n",
            "6\n",
            "7\n",
            "8\n",
            "9\n",
            "10\n",
            "11\n",
            "12\n",
            "13\n",
            "14\n",
            "15\n",
            "1\n",
            "3\n",
            "5\n",
            "7\n",
            "9\n",
            "11\n",
            "13\n",
            "15\n"
          ]
        }
      ]
    },
    {
      "cell_type": "code",
      "source": [
        "# Use for loop to access elements inside list\n",
        "\n",
        "list1=[\"Apple\",\"Banana\" ,\"Cheery\" ,\"wateremlon\",\"OrANGE\" , \"Grapes\"]\n",
        "#Manual way\n",
        "print(list1[0])\n",
        "print(list1[1])\n",
        "\n",
        "print(\"-----------------------\")\n",
        "\n",
        "# By using for loop\n",
        "for i in list1:\n",
        "  print(i)"
      ],
      "metadata": {
        "colab": {
          "base_uri": "https://localhost:8080/"
        },
        "id": "b6Tf5KO1H-qL",
        "outputId": "b9615d69-0f90-42c0-f1d8-4d154e48cdf1"
      },
      "execution_count": 43,
      "outputs": [
        {
          "output_type": "stream",
          "name": "stdout",
          "text": [
            "Apple\n",
            "Banana\n",
            "-----------------------\n",
            "Apple\n",
            "Banana\n",
            "Cheery\n",
            "wateremlon\n",
            "OrANGE\n",
            "Grapes\n"
          ]
        }
      ]
    },
    {
      "cell_type": "code",
      "source": [
        "mytuple=(1,2,3,\"Banana\",4,5,6,\"Apple\")\n",
        "for xyz in mytuple:\n",
        "  print(xyz)"
      ],
      "metadata": {
        "colab": {
          "base_uri": "https://localhost:8080/"
        },
        "id": "2ciQQkfxKaHV",
        "outputId": "3add6ba7-e063-4927-d194-de8a5a29d249"
      },
      "execution_count": 50,
      "outputs": [
        {
          "output_type": "stream",
          "name": "stdout",
          "text": [
            "1\n",
            "2\n",
            "3\n",
            "Banana\n",
            "4\n",
            "5\n",
            "6\n",
            "Apple\n"
          ]
        }
      ]
    },
    {
      "cell_type": "code",
      "source": [
        "set1={1,2,3,4,5,1,1,1,5,5,5,6,7,8,9,9,9}\n",
        "for i in set1:\n",
        "  print(i)"
      ],
      "metadata": {
        "colab": {
          "base_uri": "https://localhost:8080/"
        },
        "id": "xFnbQTeoKklB",
        "outputId": "5ce0d1ca-8337-45ba-9109-d6ef99480e35"
      },
      "execution_count": 51,
      "outputs": [
        {
          "output_type": "stream",
          "name": "stdout",
          "text": [
            "1\n",
            "2\n",
            "3\n",
            "4\n",
            "5\n",
            "6\n",
            "7\n",
            "8\n",
            "9\n"
          ]
        }
      ]
    },
    {
      "cell_type": "code",
      "source": [
        "dict1={'Name': 'Ujjwal', 'Age': 32, 'Number': 1122334455, 'Address ': 'South West banglore'}\n",
        "\n",
        "print(dict1.values())\n",
        "print(dict1.keys())"
      ],
      "metadata": {
        "colab": {
          "base_uri": "https://localhost:8080/"
        },
        "id": "0vWzMULXJ5En",
        "outputId": "472121e3-005d-4d8d-ba5b-a3ccd426f36c"
      },
      "execution_count": 47,
      "outputs": [
        {
          "output_type": "stream",
          "name": "stdout",
          "text": [
            "dict_values(['Ujjwal', 32, 1122334455, 'South West banglore'])\n",
            "dict_keys(['Name', 'Age', 'Number', 'Address '])\n"
          ]
        }
      ]
    },
    {
      "cell_type": "code",
      "source": [
        "# can we use the looping for dictionary data - YES\n",
        "dict1={'Name': 'Ujjwal', 'Age': 32, 'Number': 1122334455, 'Address ': 'South West banglore'}\n",
        "\n",
        "for n in dict1.values():\n",
        "  print(n)"
      ],
      "metadata": {
        "colab": {
          "base_uri": "https://localhost:8080/"
        },
        "id": "-vYOHaFvJWtG",
        "outputId": "039fa966-65d0-43bb-fba3-ac3078b556db"
      },
      "execution_count": 49,
      "outputs": [
        {
          "output_type": "stream",
          "name": "stdout",
          "text": [
            "Ujjwal\n",
            "32\n",
            "1122334455\n",
            "South West banglore\n"
          ]
        }
      ]
    },
    {
      "cell_type": "code",
      "source": [
        "# I want to print numbers from 2 to 4\n",
        "\n",
        "for x in range( 2, 5) :     #(start , end +1)\n",
        "  print(x)"
      ],
      "metadata": {
        "colab": {
          "base_uri": "https://localhost:8080/"
        },
        "id": "lRUtes-sI7Xi",
        "outputId": "1d0bec58-c621-485d-831c-80c6a106db62"
      },
      "execution_count": 44,
      "outputs": [
        {
          "output_type": "stream",
          "name": "stdout",
          "text": [
            "2\n",
            "3\n",
            "4\n"
          ]
        }
      ]
    },
    {
      "cell_type": "code",
      "source": [
        "# While loop"
      ],
      "metadata": {
        "id": "HcydFuukMjs2"
      },
      "execution_count": null,
      "outputs": []
    },
    {
      "cell_type": "code",
      "source": [
        "# I want to print numbers from 1 to 100\n",
        "\n",
        "i=1\n",
        "while i<=100:\n",
        "  print(i)\n",
        "  i+=1"
      ],
      "metadata": {
        "colab": {
          "base_uri": "https://localhost:8080/"
        },
        "id": "Dosz__H0Mktj",
        "outputId": "5cbc15a7-efe4-4f31-b166-b939f5fc59a7"
      },
      "execution_count": 57,
      "outputs": [
        {
          "output_type": "stream",
          "name": "stdout",
          "text": [
            "1\n",
            "2\n",
            "3\n",
            "4\n",
            "5\n",
            "6\n",
            "7\n",
            "8\n",
            "9\n",
            "10\n",
            "11\n",
            "12\n",
            "13\n",
            "14\n",
            "15\n",
            "16\n",
            "17\n",
            "18\n",
            "19\n",
            "20\n",
            "21\n",
            "22\n",
            "23\n",
            "24\n",
            "25\n",
            "26\n",
            "27\n",
            "28\n",
            "29\n",
            "30\n",
            "31\n",
            "32\n",
            "33\n",
            "34\n",
            "35\n",
            "36\n",
            "37\n",
            "38\n",
            "39\n",
            "40\n",
            "41\n",
            "42\n",
            "43\n",
            "44\n",
            "45\n",
            "46\n",
            "47\n",
            "48\n",
            "49\n",
            "50\n",
            "51\n",
            "52\n",
            "53\n",
            "54\n",
            "55\n",
            "56\n",
            "57\n",
            "58\n",
            "59\n",
            "60\n",
            "61\n",
            "62\n",
            "63\n",
            "64\n",
            "65\n",
            "66\n",
            "67\n",
            "68\n",
            "69\n",
            "70\n",
            "71\n",
            "72\n",
            "73\n",
            "74\n",
            "75\n",
            "76\n",
            "77\n",
            "78\n",
            "79\n",
            "80\n",
            "81\n",
            "82\n",
            "83\n",
            "84\n",
            "85\n",
            "86\n",
            "87\n",
            "88\n",
            "89\n",
            "90\n",
            "91\n",
            "92\n",
            "93\n",
            "94\n",
            "95\n",
            "96\n",
            "97\n",
            "98\n",
            "99\n",
            "100\n"
          ]
        }
      ]
    },
    {
      "cell_type": "markdown",
      "source": [
        "# Functions ( Block of a code that will only run when you are going to call it by its name)\n",
        "\n",
        "1) Pre-defined function   ( Already created , Already present in the python memory just use them by their name) for example .insert .append .pop .add\n",
        "\n",
        "2) User-defined function ( Created by user itself)"
      ],
      "metadata": {
        "id": "PTABXWDtOEy6"
      }
    },
    {
      "cell_type": "code",
      "source": [
        "# How to create a user-defind function\n",
        "\n",
        "def myfunction():\n",
        "  print(\"Hello i am a function and i will only execute when my user will call me with my name.\")"
      ],
      "metadata": {
        "id": "VB4ktlCePXdw"
      },
      "execution_count": 65,
      "outputs": []
    },
    {
      "cell_type": "code",
      "source": [
        "myfunction()"
      ],
      "metadata": {
        "colab": {
          "base_uri": "https://localhost:8080/"
        },
        "id": "xi_osVZVOtrJ",
        "outputId": "8be58674-3ab7-4b07-808f-9a82181fa246"
      },
      "execution_count": 66,
      "outputs": [
        {
          "output_type": "stream",
          "name": "stdout",
          "text": [
            "Hello i am a function and i will only execute when my user will call me with my name.\n"
          ]
        }
      ]
    },
    {
      "cell_type": "code",
      "source": [
        "# Create a user-defined function to add 4 number a,b,c,d\n",
        "\n",
        "def func1(a,b,c,d):\n",
        "  print(a+b+c+d)"
      ],
      "metadata": {
        "id": "tgUg0Xw0QFpH"
      },
      "execution_count": 70,
      "outputs": []
    },
    {
      "cell_type": "code",
      "source": [
        "a=5\n",
        "b=2\n",
        "c=10\n",
        "d=20\n",
        "\n",
        "func1(a,b,c,d)   # call the function by its name"
      ],
      "metadata": {
        "colab": {
          "base_uri": "https://localhost:8080/"
        },
        "id": "zSfqx4KhQk8w",
        "outputId": "5d3877be-0282-4dd5-dc6a-c892b008771d"
      },
      "execution_count": 71,
      "outputs": [
        {
          "output_type": "stream",
          "name": "stdout",
          "text": [
            "37\n"
          ]
        }
      ]
    },
    {
      "cell_type": "code",
      "source": [
        "# can we take value of a,b,c,d from user ?\n",
        "\n",
        "def func1(a,b,c,d):\n",
        "  print(a+b+c+d)"
      ],
      "metadata": {
        "id": "-TMHCwzAQ8lB"
      },
      "execution_count": 72,
      "outputs": []
    },
    {
      "cell_type": "code",
      "source": [
        "a=int(input(\"Enter the value of a:\"))\n",
        "b=int(input(\"Enter the value of b:\"))\n",
        "c=int(input(\"Enter the value of c:\"))\n",
        "d=int(input(\"Enter the value of d:\"))\n",
        "\n",
        "func1(a,b,c,d)   # call the function by its name"
      ],
      "metadata": {
        "colab": {
          "base_uri": "https://localhost:8080/"
        },
        "id": "H1PEvNQgRDSz",
        "outputId": "2c70dd81-af62-46b0-d0ca-ff04d3c45108"
      },
      "execution_count": 75,
      "outputs": [
        {
          "output_type": "stream",
          "name": "stdout",
          "text": [
            "Enter the value of a:2\n",
            "Enter the value of b:43252534637\n",
            "Enter the value of c:7497139479237498729479823759275922\n",
            "Enter the value of d:749134982374927394729759249579345793795943797937693796793769379367396793669396739769379639\n",
            "749134982374927394729759249579345793795943797937693796801266518846634292398876606781190200\n"
          ]
        }
      ]
    }
  ]
}