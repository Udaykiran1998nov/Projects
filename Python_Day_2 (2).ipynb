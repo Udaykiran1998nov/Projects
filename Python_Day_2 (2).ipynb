{
  "nbformat": 4,
  "nbformat_minor": 0,
  "metadata": {
    "colab": {
      "provenance": []
    },
    "kernelspec": {
      "name": "python3",
      "display_name": "Python 3"
    },
    "language_info": {
      "name": "python"
    }
  },
  "cells": [
    {
      "cell_type": "markdown",
      "source": [
        "# Arithmetic operators - done in previous class\n",
        "# Assignment operators - done\n",
        "# Comparision values - done\n",
        "# Logical operators - done\n",
        "# Identity operators - done\n",
        "# Membership operators -"
      ],
      "metadata": {
        "id": "ZZLnAmtRv9qa"
      }
    },
    {
      "cell_type": "code",
      "source": [
        "# Assignment operators - They are used to assign some value to your variables\n",
        "'''\n",
        "=   (x=5 assigning value 5 to variable x by using equal sign)\n",
        "\n",
        "+=\n",
        "*=\n",
        "-=\n",
        "/=\n",
        "**=\n",
        "//=\n",
        "\n",
        "'''"
      ],
      "metadata": {
        "id": "zxsq8pG6wVT0"
      },
      "execution_count": null,
      "outputs": []
    },
    {
      "cell_type": "code",
      "source": [
        "xyz = 123\n",
        "print(xyz)"
      ],
      "metadata": {
        "colab": {
          "base_uri": "https://localhost:8080/"
        },
        "id": "yUnkZ2dawgor",
        "outputId": "b0db1c68-196b-43de-abe9-2ce7025eaf4f"
      },
      "execution_count": 1,
      "outputs": [
        {
          "output_type": "stream",
          "name": "stdout",
          "text": [
            "10\n"
          ]
        }
      ]
    },
    {
      "cell_type": "code",
      "source": [
        "a=5\n",
        "a+=1      # += will add 1 to the previous value of a , so now 5+1=6 , a=6 final value\n",
        "print(a)\n",
        "\n",
        "first=123\n",
        "first +=2  # += will add 2 to the previous value of first so new value 123+2=125\n",
        "print(first)"
      ],
      "metadata": {
        "colab": {
          "base_uri": "https://localhost:8080/"
        },
        "id": "QIG1d55_wwGn",
        "outputId": "ca2f9ecb-c129-4654-91c4-7864394b4242"
      },
      "execution_count": 3,
      "outputs": [
        {
          "output_type": "stream",
          "name": "stdout",
          "text": [
            "6\n",
            "125\n"
          ]
        }
      ]
    },
    {
      "cell_type": "code",
      "source": [
        "x=10\n",
        "x -= 3    # -= will substract 3 from previous value of x so x will become 10-3=7\n",
        "print(x)"
      ],
      "metadata": {
        "colab": {
          "base_uri": "https://localhost:8080/"
        },
        "id": "xYqL42nCxZR_",
        "outputId": "46a78d44-abe6-45ca-f112-8d913c3bccc3"
      },
      "execution_count": 4,
      "outputs": [
        {
          "output_type": "stream",
          "name": "stdout",
          "text": [
            "7\n"
          ]
        }
      ]
    },
    {
      "cell_type": "code",
      "source": [
        "ab=5\n",
        "ab *=5   # *= means multiply 5 to the previous value of ab , so ab will become 5*5=25\n",
        "print(ab)"
      ],
      "metadata": {
        "colab": {
          "base_uri": "https://localhost:8080/"
        },
        "id": "iMekf9i3xn3E",
        "outputId": "3796cd95-b08d-4a5f-e5ab-5c2c82f430b6"
      },
      "execution_count": 5,
      "outputs": [
        {
          "output_type": "stream",
          "name": "stdout",
          "text": [
            "25\n"
          ]
        }
      ]
    },
    {
      "cell_type": "code",
      "source": [
        "b=20\n",
        "b /=5  # /= will divide previous value by 5 , so it will become my 20/5=4\n",
        "print(b)"
      ],
      "metadata": {
        "colab": {
          "base_uri": "https://localhost:8080/"
        },
        "id": "dby68J99x1M2",
        "outputId": "485136df-29be-4a56-e1e7-a1b95b78e71e"
      },
      "execution_count": 6,
      "outputs": [
        {
          "output_type": "stream",
          "name": "stdout",
          "text": [
            "4.0\n"
          ]
        }
      ]
    },
    {
      "cell_type": "code",
      "source": [
        "# Comparision operators they are used to compare the value\n",
        "'''\n",
        ">\n",
        "<\n",
        "==   It is used to compare whether two values are same or not\n",
        ">=\n",
        "<=\n",
        "'''"
      ],
      "metadata": {
        "id": "3e1KrnwhyPVi"
      },
      "execution_count": null,
      "outputs": []
    },
    {
      "cell_type": "code",
      "source": [
        "a=5\n",
        "b=10\n",
        "print(a>b)   # Check a greater than b ( True / False)"
      ],
      "metadata": {
        "colab": {
          "base_uri": "https://localhost:8080/"
        },
        "id": "_IRZoRMNyet-",
        "outputId": "e7540299-919a-4b40-8d8d-c92d0adc7a11"
      },
      "execution_count": 7,
      "outputs": [
        {
          "output_type": "stream",
          "name": "stdout",
          "text": [
            "False\n"
          ]
        }
      ]
    },
    {
      "cell_type": "code",
      "source": [
        "a=20\n",
        "b=200\n",
        "print(b<a) # Check b less than a (True / False)"
      ],
      "metadata": {
        "colab": {
          "base_uri": "https://localhost:8080/"
        },
        "id": "zKO8joYjyszB",
        "outputId": "e9660753-3f04-4d3b-b64d-c1f78ed0255a"
      },
      "execution_count": 8,
      "outputs": [
        {
          "output_type": "stream",
          "name": "stdout",
          "text": [
            "False\n"
          ]
        }
      ]
    },
    {
      "cell_type": "code",
      "source": [
        "a=220.1\n",
        "b=220.1\n",
        "print(a==b)  # Check value of a and b are equal or not ( True/ False)"
      ],
      "metadata": {
        "colab": {
          "base_uri": "https://localhost:8080/"
        },
        "id": "zqTrgsP0y3lO",
        "outputId": "c949ba77-c912-4319-ef78-8e821b92ea50"
      },
      "execution_count": 13,
      "outputs": [
        {
          "output_type": "stream",
          "name": "stdout",
          "text": [
            "True\n"
          ]
        }
      ]
    },
    {
      "cell_type": "code",
      "source": [
        "a=500\n",
        "b=500\n",
        "print(a<=b)  # Less than equal to, Return True if a less than b or they both are equal"
      ],
      "metadata": {
        "colab": {
          "base_uri": "https://localhost:8080/"
        },
        "id": "f0HH1h8AzQTS",
        "outputId": "3999de66-6387-421c-d39e-8a7c7c9e0f78"
      },
      "execution_count": 16,
      "outputs": [
        {
          "output_type": "stream",
          "name": "stdout",
          "text": [
            "True\n"
          ]
        }
      ]
    },
    {
      "cell_type": "code",
      "source": [
        "value1 =55\n",
        "value2= 34\n",
        "\n",
        "print(value1 <= value2)   # value1 < value2 or value1==value2"
      ],
      "metadata": {
        "colab": {
          "base_uri": "https://localhost:8080/"
        },
        "id": "LNkE4_Itz-OF",
        "outputId": "be4ff823-f99f-40df-a969-ec1c2304faa4"
      },
      "execution_count": 18,
      "outputs": [
        {
          "output_type": "stream",
          "name": "stdout",
          "text": [
            "False\n"
          ]
        }
      ]
    },
    {
      "cell_type": "code",
      "source": [
        "# Logical operators they are used to compare te logic ir correct or not\n",
        "'''\n",
        "and\n",
        "or\n",
        "not\n",
        "'''"
      ],
      "metadata": {
        "id": "dv2dSIZx02lR"
      },
      "execution_count": null,
      "outputs": []
    },
    {
      "cell_type": "code",
      "source": [
        "# and , Return True if both statement are correct otherwise return False\n",
        "\n",
        "a=500\n",
        "b=10\n",
        "print( a<b and b>a)   # a less than b    and     b greater than a"
      ],
      "metadata": {
        "colab": {
          "base_uri": "https://localhost:8080/"
        },
        "id": "9XxVfHzf1BBW",
        "outputId": "9428d439-fa37-4646-cd40-c3ec73f3e93a"
      },
      "execution_count": 20,
      "outputs": [
        {
          "output_type": "stream",
          "name": "stdout",
          "text": [
            "False\n"
          ]
        }
      ]
    },
    {
      "cell_type": "code",
      "source": [
        "# or , Return true if any one of the statement is correct return True otherwise false\n",
        "\n",
        "a=5\n",
        "b=20\n",
        "\n",
        "print(a<b or a==b)  # a less than b   or   a equal to b"
      ],
      "metadata": {
        "colab": {
          "base_uri": "https://localhost:8080/"
        },
        "id": "MHmmPVtY1kPZ",
        "outputId": "a8d00dbd-c31f-4404-9b23-00dfecae525d"
      },
      "execution_count": 21,
      "outputs": [
        {
          "output_type": "stream",
          "name": "stdout",
          "text": [
            "True\n"
          ]
        }
      ]
    },
    {
      "cell_type": "code",
      "source": [
        "#not - Reverse your result\n",
        "\n",
        "a=5\n",
        "b=20\n",
        "print (not(b>a))   # not(True)  converted to False"
      ],
      "metadata": {
        "colab": {
          "base_uri": "https://localhost:8080/"
        },
        "id": "Zc0nYCHS2Fe5",
        "outputId": "5d3304c3-60d0-4e23-c884-395b76b93316"
      },
      "execution_count": 22,
      "outputs": [
        {
          "output_type": "stream",
          "name": "stdout",
          "text": [
            "False\n"
          ]
        }
      ]
    },
    {
      "cell_type": "code",
      "source": [
        "first=200\n",
        "second=300\n",
        "print (not(first == second))   # not(False)"
      ],
      "metadata": {
        "colab": {
          "base_uri": "https://localhost:8080/"
        },
        "id": "u8h5sfuj2aom",
        "outputId": "81d9e9a2-7b38-452a-bf2f-e217bc7a6248"
      },
      "execution_count": 24,
      "outputs": [
        {
          "output_type": "stream",
          "name": "stdout",
          "text": [
            "True\n"
          ]
        }
      ]
    },
    {
      "cell_type": "code",
      "source": [
        "# Identity operators to check whether the identity is same or not\n",
        "'''\n",
        "is     - Return true if both will be same.\n",
        "is not - Return true if both will be different\n",
        "'''\n",
        "apple=85\n",
        "orange=85\n",
        "\n",
        "print( apple is orange )  # similar to =="
      ],
      "metadata": {
        "colab": {
          "base_uri": "https://localhost:8080/"
        },
        "id": "JaHa7NOW21lt",
        "outputId": "9627683c-0800-466a-816f-fdede1309b5c"
      },
      "execution_count": 26,
      "outputs": [
        {
          "output_type": "stream",
          "name": "stdout",
          "text": [
            "True\n"
          ]
        }
      ]
    },
    {
      "cell_type": "code",
      "source": [
        "a=5\n",
        "b=55\n",
        "print(a is b)"
      ],
      "metadata": {
        "colab": {
          "base_uri": "https://localhost:8080/"
        },
        "id": "D0k5vC6j3WPQ",
        "outputId": "48a1ae16-367c-4fa8-e97e-a53390031ed7"
      },
      "execution_count": 28,
      "outputs": [
        {
          "output_type": "stream",
          "name": "stdout",
          "text": [
            "False\n"
          ]
        }
      ]
    },
    {
      "cell_type": "code",
      "source": [
        "a=55\n",
        "b=55\n",
        "print( a is not b)  # 55 is not 55 - FALSE"
      ],
      "metadata": {
        "colab": {
          "base_uri": "https://localhost:8080/"
        },
        "id": "Gr6bBlCr3tza",
        "outputId": "861f0bd2-5c28-421c-9ea5-972fa7735fb4"
      },
      "execution_count": 30,
      "outputs": [
        {
          "output_type": "stream",
          "name": "stdout",
          "text": [
            "False\n"
          ]
        }
      ]
    },
    {
      "cell_type": "code",
      "source": [
        "# Membership operator  used to searching purpose\n",
        "'''\n",
        "in    - Return True if present\n",
        "not in - Return true if not present\n",
        "'''"
      ],
      "metadata": {
        "id": "LygVJxBp3jgm"
      },
      "execution_count": null,
      "outputs": []
    },
    {
      "cell_type": "code",
      "source": [
        "word=\"Orange\"\n",
        "print( \"a\" in word)   # a present in Orange or not"
      ],
      "metadata": {
        "colab": {
          "base_uri": "https://localhost:8080/"
        },
        "id": "3AQUt-0J4ZdI",
        "outputId": "0e5bf142-1e5e-4cc4-8461-ed86e5a9350c"
      },
      "execution_count": 33,
      "outputs": [
        {
          "output_type": "stream",
          "name": "stdout",
          "text": [
            "True\n"
          ]
        }
      ]
    },
    {
      "cell_type": "code",
      "source": [
        "word=\"Orange\"\n",
        "print(\"A\" not in word) # A not present in Orange or not"
      ],
      "metadata": {
        "colab": {
          "base_uri": "https://localhost:8080/"
        },
        "id": "d1k82mfg4Z-O",
        "outputId": "a80aea39-affd-4711-d1d9-d428efb5544a"
      },
      "execution_count": 34,
      "outputs": [
        {
          "output_type": "stream",
          "name": "stdout",
          "text": [
            "True\n"
          ]
        }
      ]
    },
    {
      "cell_type": "markdown",
      "source": [
        "# Conditional statements\n",
        "\n",
        "1) if\n",
        "\n",
        "\n",
        "2) elif\n",
        "\n",
        "3) else"
      ],
      "metadata": {
        "id": "Rz8h-xYd6nwN"
      }
    },
    {
      "cell_type": "code",
      "source": [
        "Rohan_marks =850\n",
        "Rahul_marks =99\n",
        "\n",
        "if Rohan_marks > Rahul_marks :\n",
        "  print(\"Rohan scored more marks than Rahul\")   # Print this if above condition is True\n",
        "else:\n",
        "  print(\"Rahul scored more marks than Rohan\")  # Print this if above condition is False\n"
      ],
      "metadata": {
        "colab": {
          "base_uri": "https://localhost:8080/"
        },
        "id": "Qpy6Amdv6xBZ",
        "outputId": "9a4072c3-b289-45cd-bf89-6b0411f51cbc"
      },
      "execution_count": 36,
      "outputs": [
        {
          "output_type": "stream",
          "name": "stdout",
          "text": [
            "Rohan scored more marks than Rahul\n"
          ]
        }
      ]
    },
    {
      "cell_type": "code",
      "source": [
        "word=\"Hello World\"\n",
        "\n",
        "if \"W\" in word :\n",
        "  print(\"W is present in the word \")\n",
        "else:\n",
        "  print(\"W is not present in the word\")"
      ],
      "metadata": {
        "id": "S4ZofUY18TcF"
      },
      "execution_count": null,
      "outputs": []
    },
    {
      "cell_type": "code",
      "source": [
        "# a=10 , b=20 , check if a is greater than b print \"A won\" , otherwise print \"B won\"\n",
        "a = 10\n",
        "b = 20\n",
        "if a > b :\n",
        "  print('A Won')\n",
        "else:\n",
        "  print(\"B Won\")"
      ],
      "metadata": {
        "colab": {
          "base_uri": "https://localhost:8080/"
        },
        "id": "zmJxUoaC88Nt",
        "outputId": "f8fc7996-34cc-40c2-a658-e98a1aacf902"
      },
      "execution_count": 43,
      "outputs": [
        {
          "output_type": "stream",
          "name": "stdout",
          "text": [
            "B Won\n"
          ]
        }
      ]
    },
    {
      "cell_type": "code",
      "source": [
        "a = 10\n",
        "b = 20\n",
        "\n",
        "if a>b :\n",
        "  print ('A won')\n",
        "else:\n",
        "  print ('b won')"
      ],
      "metadata": {
        "colab": {
          "base_uri": "https://localhost:8080/"
        },
        "id": "OhrSH4TU9phZ",
        "outputId": "3f1c6fca-c597-4fa5-a9e7-1095f8db754b"
      },
      "execution_count": 41,
      "outputs": [
        {
          "output_type": "stream",
          "name": "stdout",
          "text": [
            "b won\n"
          ]
        }
      ]
    },
    {
      "cell_type": "code",
      "source": [
        "a=300    # 1) A is greater than b    , 2) A is equal to B ,  3) B is greater than A\n",
        "b=30\n",
        "\n",
        "if a>b:\n",
        "  print(\"a is greater\")\n",
        "elif a==b:\n",
        "  print(\"They both are same\")\n",
        "else:\n",
        "  print(\"b is greater\")"
      ],
      "metadata": {
        "colab": {
          "base_uri": "https://localhost:8080/"
        },
        "id": "iVF_1WLW-IVr",
        "outputId": "d00c6f9b-0158-4c7f-b0ec-b67c9f18ee6d"
      },
      "execution_count": 45,
      "outputs": [
        {
          "output_type": "stream",
          "name": "stdout",
          "text": [
            "They both are same\n"
          ]
        }
      ]
    },
    {
      "cell_type": "code",
      "source": [
        "a = 5\n",
        "print ( a is 5)"
      ],
      "metadata": {
        "colab": {
          "base_uri": "https://localhost:8080/"
        },
        "id": "WtNs9PEK_phw",
        "outputId": "eba94e81-6ba9-497b-a135-56d1304c7086"
      },
      "execution_count": 46,
      "outputs": [
        {
          "output_type": "stream",
          "name": "stdout",
          "text": [
            "True\n"
          ]
        },
        {
          "output_type": "stream",
          "name": "stderr",
          "text": [
            "<>:2: SyntaxWarning: \"is\" with a literal. Did you mean \"==\"?\n",
            "<>:2: SyntaxWarning: \"is\" with a literal. Did you mean \"==\"?\n",
            "<ipython-input-46-90ef198f3128>:2: SyntaxWarning: \"is\" with a literal. Did you mean \"==\"?\n",
            "  print ( a is 5)\n"
          ]
        }
      ]
    },
    {
      "cell_type": "code",
      "source": [
        "print (\"Hello\")"
      ],
      "metadata": {
        "colab": {
          "base_uri": "https://localhost:8080/"
        },
        "id": "g1awr3d-_5Y4",
        "outputId": "a7ca3d44-018b-4be8-a890-1d728fcb3fe3"
      },
      "execution_count": 48,
      "outputs": [
        {
          "output_type": "stream",
          "name": "stdout",
          "text": [
            "Hello\n"
          ]
        }
      ]
    },
    {
      "cell_type": "markdown",
      "source": [
        "# Data Types\n",
        "\n",
        "1) Mutable data types    -Changeable type of data\n",
        "\n",
        "List\n",
        "\n",
        "Dictionary\n",
        "\n",
        "Set\n",
        "\n",
        "2) Immutable data types  - Un-Changeable type of data\n",
        "\n",
        "Numbers\n",
        "\n",
        "String  - Anything inside single , double , triple quotation marks\n",
        "\n",
        "Tuples"
      ],
      "metadata": {
        "id": "kuYdEedsC_Sw"
      }
    },
    {
      "cell_type": "code",
      "source": [
        "# Immutable data types"
      ],
      "metadata": {
        "id": "seGRG8Y5DZJu"
      },
      "execution_count": 54,
      "outputs": []
    },
    {
      "cell_type": "code",
      "source": [
        "# Numbers\n",
        "\n",
        "a=155\n",
        "# I want to change 1 to 9   (155 to 955)\n",
        "a[0]=9"
      ],
      "metadata": {
        "id": "zNFPeOaLF8Pa"
      },
      "execution_count": null,
      "outputs": []
    },
    {
      "cell_type": "code",
      "source": [
        "# STRING - Anythin enclosed inside '' , \" \" , '''  '''  will be considered as string\n",
        "\n",
        "\n",
        "#Index-\"012345\"\n",
        "name=  \"Python\"\n",
        "# I want to print \"n\"\n",
        "print(name[5])\n",
        "\n",
        "#Index-   \"012345\"\n",
        "SURNAME = \"Sharma\"\n",
        "# I want to print \"m\"\n",
        "print(SURNAME[4])"
      ],
      "metadata": {
        "colab": {
          "base_uri": "https://localhost:8080/"
        },
        "id": "obfhdIdnEY1_",
        "outputId": "d00072e0-7c44-47f9-b47d-33d4c391972d"
      },
      "execution_count": 51,
      "outputs": [
        {
          "output_type": "stream",
          "name": "stdout",
          "text": [
            "n\n",
            "m\n"
          ]
        }
      ]
    },
    {
      "cell_type": "code",
      "source": [
        "name= \"Ujjwal\"\n",
        "# Change  capital \"U\" to small \"u\"\n",
        "\n",
        "name[0] =\"u\""
      ],
      "metadata": {
        "colab": {
          "base_uri": "https://localhost:8080/",
          "height": 181
        },
        "id": "ZMYeFA5KFVhw",
        "outputId": "4b7bbcb2-e543-4ec4-a336-dabab348ff29"
      },
      "execution_count": 52,
      "outputs": [
        {
          "output_type": "error",
          "ename": "TypeError",
          "evalue": "'str' object does not support item assignment",
          "traceback": [
            "\u001b[0;31m---------------------------------------------------------------------------\u001b[0m",
            "\u001b[0;31mTypeError\u001b[0m                                 Traceback (most recent call last)",
            "\u001b[0;32m<ipython-input-52-94eab6edc95d>\u001b[0m in \u001b[0;36m<cell line: 5>\u001b[0;34m()\u001b[0m\n\u001b[1;32m      3\u001b[0m \u001b[0;31m# Change  capital \"U\" to small \"u\"\u001b[0m\u001b[0;34m\u001b[0m\u001b[0;34m\u001b[0m\u001b[0m\n\u001b[1;32m      4\u001b[0m \u001b[0;34m\u001b[0m\u001b[0m\n\u001b[0;32m----> 5\u001b[0;31m \u001b[0mname\u001b[0m\u001b[0;34m[\u001b[0m\u001b[0;36m0\u001b[0m\u001b[0;34m]\u001b[0m \u001b[0;34m=\u001b[0m\u001b[0;34m\"u\"\u001b[0m\u001b[0;34m\u001b[0m\u001b[0;34m\u001b[0m\u001b[0m\n\u001b[0m",
            "\u001b[0;31mTypeError\u001b[0m: 'str' object does not support item assignment"
          ]
        }
      ]
    },
    {
      "cell_type": "code",
      "source": [
        "# Tuples  - Store multiple values inside a single variable\n",
        "\n",
        "names =(\"Rahul\" , \"Rohan\" , \"Aman\" , \"Priya\")\n",
        "ages=( 45 , 34 , 23, 54)\n",
        "\n",
        "print(names)\n",
        "print(ages)\n",
        "\n",
        "\n",
        "# I want to print \"Aman\"\n",
        "print(names[2])\n",
        "print(ages[2])"
      ],
      "metadata": {
        "colab": {
          "base_uri": "https://localhost:8080/"
        },
        "id": "rzJkhzk4GLN8",
        "outputId": "99c9545a-c54b-402b-d51e-0a59dc4aa7ca"
      },
      "execution_count": 57,
      "outputs": [
        {
          "output_type": "stream",
          "name": "stdout",
          "text": [
            "('Rahul', 'Rohan', 'Aman', 'Priya')\n",
            "(45, 34, 23, 54)\n",
            "Aman\n",
            "23\n"
          ]
        }
      ]
    },
    {
      "cell_type": "code",
      "source": [
        "names[2] =\"Aman singh\""
      ],
      "metadata": {
        "colab": {
          "base_uri": "https://localhost:8080/",
          "height": 145
        },
        "id": "hOmVMhhFHHI5",
        "outputId": "103f24bf-aace-41d7-c5ed-c5371e26dd42"
      },
      "execution_count": 58,
      "outputs": [
        {
          "output_type": "error",
          "ename": "TypeError",
          "evalue": "'tuple' object does not support item assignment",
          "traceback": [
            "\u001b[0;31m---------------------------------------------------------------------------\u001b[0m",
            "\u001b[0;31mTypeError\u001b[0m                                 Traceback (most recent call last)",
            "\u001b[0;32m<ipython-input-58-ca636ea192ae>\u001b[0m in \u001b[0;36m<cell line: 1>\u001b[0;34m()\u001b[0m\n\u001b[0;32m----> 1\u001b[0;31m \u001b[0mnames\u001b[0m\u001b[0;34m[\u001b[0m\u001b[0;36m2\u001b[0m\u001b[0;34m]\u001b[0m \u001b[0;34m=\u001b[0m\u001b[0;34m\"Aman singh\"\u001b[0m\u001b[0;34m\u001b[0m\u001b[0;34m\u001b[0m\u001b[0m\n\u001b[0m",
            "\u001b[0;31mTypeError\u001b[0m: 'tuple' object does not support item assignment"
          ]
        }
      ]
    },
    {
      "cell_type": "markdown",
      "source": [
        "# Mutable data types\n"
      ],
      "metadata": {
        "id": "rkDCh74zHfHd"
      }
    },
    {
      "cell_type": "code",
      "source": [
        "# List - Store multiple values inside a single variable\n",
        "\n",
        "names=[\"Rahul\" , \"Rohan\" , \"Aman\" , \"Priya\" ]"
      ],
      "metadata": {
        "id": "Gx1W9UCaHgJ3"
      },
      "execution_count": 64,
      "outputs": []
    },
    {
      "cell_type": "code",
      "source": [
        "# How to change th value of aman to aman singh\n",
        "names[2] =\"Aman singh\""
      ],
      "metadata": {
        "id": "XPQHUsLsH4Cg"
      },
      "execution_count": 65,
      "outputs": []
    },
    {
      "cell_type": "code",
      "source": [
        "print(names)"
      ],
      "metadata": {
        "colab": {
          "base_uri": "https://localhost:8080/"
        },
        "id": "abrcVYhlH7N2",
        "outputId": "ec6ea1fb-f8df-46bb-8d03-896284919850"
      },
      "execution_count": 66,
      "outputs": [
        {
          "output_type": "stream",
          "name": "stdout",
          "text": [
            "['Rahul', 'Rohan', 'Aman singh', 'Priya']\n"
          ]
        }
      ]
    },
    {
      "cell_type": "code",
      "source": [
        "# How to add a value at last  ( Add akash at last)\n",
        "\n",
        "names.append(\"akash\")\n",
        "print(names)\n",
        "\n",
        "names.append(\"Dev\")\n",
        "print(names)"
      ],
      "metadata": {
        "colab": {
          "base_uri": "https://localhost:8080/"
        },
        "id": "lydrd2UMIInI",
        "outputId": "ba9240e4-50a2-41f3-d838-35584935073c"
      },
      "execution_count": 67,
      "outputs": [
        {
          "output_type": "stream",
          "name": "stdout",
          "text": [
            "['Rahul', 'Rohan', 'Aman singh', 'Priya', 'akash']\n",
            "['Rahul', 'Rohan', 'Aman singh', 'Priya', 'akash', 'Dev']\n"
          ]
        }
      ]
    },
    {
      "cell_type": "code",
      "source": [
        "# How to add a value in between  at a specific position ( Add Ravindra between Priya and akash)\n",
        "\n",
        "names.insert( 4  ,\"Ravindra\" )     #( index position in which you want to add   ,   value that you want to add )\n",
        "\n",
        "print(names)"
      ],
      "metadata": {
        "colab": {
          "base_uri": "https://localhost:8080/"
        },
        "id": "RQAdczjvIvUH",
        "outputId": "ce5e3d7e-ffcc-419b-a6f4-993aa9aac238"
      },
      "execution_count": 68,
      "outputs": [
        {
          "output_type": "stream",
          "name": "stdout",
          "text": [
            "['Rahul', 'Rohan', 'Aman singh', 'Priya', 'Ravindra', 'akash', 'Dev']\n"
          ]
        }
      ]
    },
    {
      "cell_type": "code",
      "source": [
        "# How to delete any value\n",
        "\n",
        "# Delete Rohan from the list names\n",
        "\n",
        "names.pop(1)\n",
        "print(names)"
      ],
      "metadata": {
        "colab": {
          "base_uri": "https://localhost:8080/"
        },
        "id": "G_LIdzmXJalx",
        "outputId": "4e404393-dd92-471c-ac6a-e8f843dc70c2"
      },
      "execution_count": 69,
      "outputs": [
        {
          "output_type": "stream",
          "name": "stdout",
          "text": [
            "['Rahul', 'Aman singh', 'Priya', 'Ravindra', 'akash', 'Dev']\n"
          ]
        }
      ]
    },
    {
      "cell_type": "code",
      "source": [
        "# Delete multiple values\n",
        "\n",
        "names.pop(1)\n",
        "print(names)"
      ],
      "metadata": {
        "colab": {
          "base_uri": "https://localhost:8080/",
          "height": 199
        },
        "id": "gPTtmqwpJx0E",
        "outputId": "8c5645ef-40a9-4726-e478-5cafdfaba5da"
      },
      "execution_count": 70,
      "outputs": [
        {
          "output_type": "error",
          "ename": "TypeError",
          "evalue": "pop expected at most 1 argument, got 2",
          "traceback": [
            "\u001b[0;31m---------------------------------------------------------------------------\u001b[0m",
            "\u001b[0;31mTypeError\u001b[0m                                 Traceback (most recent call last)",
            "\u001b[0;32m<ipython-input-70-8684d8fbc4ef>\u001b[0m in \u001b[0;36m<cell line: 3>\u001b[0;34m()\u001b[0m\n\u001b[1;32m      1\u001b[0m \u001b[0;31m# Delete multiple values\u001b[0m\u001b[0;34m\u001b[0m\u001b[0;34m\u001b[0m\u001b[0m\n\u001b[1;32m      2\u001b[0m \u001b[0;34m\u001b[0m\u001b[0m\n\u001b[0;32m----> 3\u001b[0;31m \u001b[0mnames\u001b[0m\u001b[0;34m.\u001b[0m\u001b[0mpop\u001b[0m\u001b[0;34m(\u001b[0m\u001b[0;36m1\u001b[0m\u001b[0;34m,\u001b[0m\u001b[0;36m2\u001b[0m\u001b[0;34m)\u001b[0m\u001b[0;34m\u001b[0m\u001b[0;34m\u001b[0m\u001b[0m\n\u001b[0m\u001b[1;32m      4\u001b[0m \u001b[0mprint\u001b[0m\u001b[0;34m(\u001b[0m\u001b[0mnames\u001b[0m\u001b[0;34m)\u001b[0m\u001b[0;34m\u001b[0m\u001b[0;34m\u001b[0m\u001b[0m\n",
            "\u001b[0;31mTypeError\u001b[0m: pop expected at most 1 argument, got 2"
          ]
        }
      ]
    }
  ]
}