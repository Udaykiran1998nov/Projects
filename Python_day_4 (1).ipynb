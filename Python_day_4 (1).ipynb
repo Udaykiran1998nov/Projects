{
  "nbformat": 4,
  "nbformat_minor": 0,
  "metadata": {
    "colab": {
      "provenance": []
    },
    "kernelspec": {
      "name": "python3",
      "display_name": "Python 3"
    },
    "language_info": {
      "name": "python"
    }
  },
  "cells": [
    {
      "cell_type": "code",
      "execution_count": 13,
      "metadata": {
        "colab": {
          "base_uri": "https://localhost:8080/"
        },
        "id": "i_R5QTP_AmJ3",
        "outputId": "82b319a8-3f2b-440f-a55b-1547bf61a0e0"
      },
      "outputs": [
        {
          "output_type": "stream",
          "name": "stdout",
          "text": [
            "['Ujjwal', 32, 120000, 1234556]\n"
          ]
        }
      ],
      "source": [
        "# Procedural programming ( Old way of writing the code , Non-efficient)\n",
        "\n",
        "def emp1(name,age,salary,phoneNo):\n",
        "  list1=[]\n",
        "  list1.append(name)\n",
        "  list1.append(age)\n",
        "  list1.append(salary)\n",
        "  list1.append(phoneNo)\n",
        "  print(list1)\n",
        "\n",
        "\n",
        "emp1(\"Ujjwal\",32,120000,1234556)\n",
        "\n",
        "# 12  lines of code for single employee so 12*500= 6000 lines of code"
      ]
    },
    {
      "cell_type": "markdown",
      "source": [
        "# OOPs - Object Oriented Programming\n",
        "\n",
        "1) Class - Blueprint , Template or you can say Pre-defined structure.\n",
        "\n",
        "\n",
        "2) Object -Real world entities ."
      ],
      "metadata": {
        "id": "RC6MI46kIyL-"
      }
    },
    {
      "cell_type": "code",
      "source": [
        "# Write a OOPs code to store the details of employeess like empid ,  name , age , salary .\n",
        "\n",
        "class Empinfo:\n",
        "  def __init__(self,empid,name,age,salary) :   # Constructor it will be automatically called as soon as you are going to create objects.\n",
        "    self.name=name\n",
        "    self.empid=empid\n",
        "    self.age=age\n",
        "    self.salary=salary\n",
        "\n",
        "  def print_details(self):\n",
        "    print(\"Name of employee is:\",self.name)\n",
        "    print(\"Empid is :\",self.empid)\n",
        "    print(\"salary is :\",self.salary)\n",
        "    print(\"Age is :\",self.age)\n",
        "\n",
        "\n",
        "# Objects for each and every employee\n",
        "obj1=Empinfo(123,\"Ujjwal\",32,200000)\n",
        "obj2=Empinfo(456,\"Rahul\",45,1230000)\n",
        "obj3=Empinfo(789,\"Alice\",34,25000)\n",
        "\n",
        "# If 500 employees 500 lines of code for objects and 20 lines of code for class = 520 lines of code"
      ],
      "metadata": {
        "id": "9f3iJzALKim0"
      },
      "execution_count": 9,
      "outputs": []
    },
    {
      "cell_type": "code",
      "source": [
        "# Print details\n",
        "obj1.print_details()"
      ],
      "metadata": {
        "colab": {
          "base_uri": "https://localhost:8080/"
        },
        "id": "DqmAALrROB33",
        "outputId": "334dd9dd-ebd5-4bf2-e096-ac2831073438"
      },
      "execution_count": 12,
      "outputs": [
        {
          "output_type": "stream",
          "name": "stdout",
          "text": [
            "Name of employee is: Ujjwal\n",
            "Empid is : 123\n",
            "salary is : 200000\n",
            "Age is : 32\n"
          ]
        }
      ]
    },
    {
      "cell_type": "markdown",
      "source": [
        "# Inheritance ( To inherit or acquire the property of parent class by the child class)"
      ],
      "metadata": {
        "id": "TRNDAogjUhfq"
      }
    },
    {
      "cell_type": "code",
      "source": [
        "# Single Inheritance"
      ],
      "metadata": {
        "id": "jzRiMYIAab5X"
      },
      "execution_count": null,
      "outputs": []
    },
    {
      "cell_type": "code",
      "source": [
        "# Parent class\n",
        "class father:\n",
        "  def __init__(self):\n",
        "    self.haircolor=\"Yellow\"\n",
        "    self.height=6\n",
        "    self.nose=\"sharp\"\n",
        "\n",
        "# Child class\n",
        "class rohan(father):\n",
        "# rohan is not having any of its own property\n",
        "  def print_details(self):\n",
        "    print(\"Haircolor of rohan is :\",self.haircolor)\n",
        "    print(\"Height of rohan is:\",self.height)\n",
        "    print(\"nose structure of rohan is :\",self.nose)\n",
        "\n",
        "\n",
        "# Object\n",
        "obj1=rohan()\n",
        "obj1.print_details()"
      ],
      "metadata": {
        "colab": {
          "base_uri": "https://localhost:8080/"
        },
        "id": "JlMnBZfxUoQf",
        "outputId": "c97cb9c1-5b89-4bd4-98c8-75d7dcf1e9d0"
      },
      "execution_count": 14,
      "outputs": [
        {
          "output_type": "stream",
          "name": "stdout",
          "text": [
            "Haircolor of rohan is : Yellow\n",
            "Height of rohan is: 6\n",
            "nose structure of rohan is : sharp\n"
          ]
        }
      ]
    },
    {
      "cell_type": "code",
      "source": [
        "# Multiple inheritance"
      ],
      "metadata": {
        "id": "ALDpMxqqahMM"
      },
      "execution_count": null,
      "outputs": []
    },
    {
      "cell_type": "code",
      "source": [
        "# Parent class 1 (Father)\n",
        "class father:\n",
        "  def __init__(self):\n",
        "    self.haircolor=\"Black\"\n",
        "    self.eyes=\"Weak\"\n",
        "\n",
        "# Parent class 2 ( Mother)\n",
        "class mother:\n",
        "  def __init__(self):\n",
        "    self.height=5.9\n",
        "    self.haircolor=\"Yellow\"\n",
        "\n",
        "# Child class ( You)\n",
        "class Alice(father,mother):\n",
        "  def __init__(self):\n",
        "    self.profession=\"Doctor\"\n",
        "\n",
        "    # Manually call the constructor of father and mother because now child is aslo having its own constructor\n",
        "    father.__init__(self)\n",
        "    mother.__init__(self)\n",
        "\n",
        "  def print_details(self):\n",
        "    print(\"Profession of child is :\",self.profession)\n",
        "    print(\"Height of child:\",self.height)\n",
        "    print(\"eyes of child is :\",self.eyes)\n",
        "    print(\"Haircolor of child is :\",self.haircolor)\n",
        "\n",
        "# Object\n",
        "obj1=Alice()\n",
        "obj1.print_details()"
      ],
      "metadata": {
        "colab": {
          "base_uri": "https://localhost:8080/"
        },
        "id": "gRm4jGM0Wkkp",
        "outputId": "b8130197-adc0-44fe-83f9-2c4ee1d99273"
      },
      "execution_count": 19,
      "outputs": [
        {
          "output_type": "stream",
          "name": "stdout",
          "text": [
            "Profession of child is : Doctor\n",
            "Height of child: 5.9\n",
            "eyes of child is : Weak\n",
            "Haircolor of child is : Yellow\n"
          ]
        }
      ]
    },
    {
      "cell_type": "code",
      "source": [
        "# Multi-level inheritance"
      ],
      "metadata": {
        "id": "-Ogd0cjBbJfh"
      },
      "execution_count": null,
      "outputs": []
    },
    {
      "cell_type": "code",
      "source": [
        "# Grandfather\n",
        "class grandfather:\n",
        "  def __init__(self):\n",
        "    self.eyes=\"weak\"\n",
        "\n",
        "# Father\n",
        "class father(grandfather):\n",
        "  def __init__(self):\n",
        "    self.haircolor=\"Black\"\n",
        "    grandfather.__init__(self)\n",
        "\n",
        "# Alice\n",
        "class Alice(father):\n",
        "  def __init__(self):\n",
        "    self.profession=\"Doctor\"\n",
        "    father.__init__(self)\n",
        "\n",
        "  def display_Details(self):\n",
        "    print(\"Profession of child :\",self.profession)\n",
        "    print(\"eyes of child:\",self.eyes)\n",
        "    print(\"haircolor of alice is :\",self.haircolor)\n",
        "\n",
        "\n",
        "# object\n",
        "abc1=Alice()\n",
        "abc1.display_Details()"
      ],
      "metadata": {
        "colab": {
          "base_uri": "https://localhost:8080/"
        },
        "id": "e2zVrEUtbMEN",
        "outputId": "3a3d4703-7bee-4c8a-c5cc-ee73f929a6af"
      },
      "execution_count": 20,
      "outputs": [
        {
          "output_type": "stream",
          "name": "stdout",
          "text": [
            "Profession of child : Doctor\n",
            "eyes of child: weak\n",
            "haircolor of alice is : Black\n"
          ]
        }
      ]
    },
    {
      "cell_type": "code",
      "source": [
        "haircolor=\"black\"\n",
        "haircolor=\"yellow\"\n",
        "print(haircolor)\n",
        "\n",
        "a=10\n",
        "a=5\n",
        "print(a)"
      ],
      "metadata": {
        "colab": {
          "base_uri": "https://localhost:8080/"
        },
        "id": "1I6SLUXhYCyV",
        "outputId": "02c3307c-77c0-4d72-ae3b-02c9a481a3ff"
      },
      "execution_count": 16,
      "outputs": [
        {
          "output_type": "stream",
          "name": "stdout",
          "text": [
            "yellow\n",
            "5\n"
          ]
        }
      ]
    }
  ]
}