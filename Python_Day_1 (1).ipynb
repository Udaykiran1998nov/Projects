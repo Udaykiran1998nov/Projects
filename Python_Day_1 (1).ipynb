{
  "nbformat": 4,
  "nbformat_minor": 0,
  "metadata": {
    "colab": {
      "provenance": []
    },
    "kernelspec": {
      "name": "python3",
      "display_name": "Python 3"
    },
    "language_info": {
      "name": "python"
    }
  },
  "cells": [
    {
      "cell_type": "markdown",
      "source": [
        "# Introduction to Python"
      ],
      "metadata": {
        "id": "6Ugfm6DVtL2S"
      }
    },
    {
      "cell_type": "markdown",
      "source": [
        "Python is a popular programing language .\n",
        "\n",
        "The name and logo is inspired from a snake.\n",
        "\n",
        "Python is created by Guido Van Rossum in the year 1991 he is a dutch programmer.\n",
        "\n"
      ],
      "metadata": {
        "id": "NWSrI-6CtNZq"
      }
    },
    {
      "cell_type": "markdown",
      "source": [
        "# How to print/display anything in the output box\n",
        "\n",
        "You can use single , doublt , triple quotation marks to print English letter , word , sentence.\n",
        "\n",
        "You can directy print your numbers withour quotation marks.\n",
        "\n",
        "If you want to print special characters use quotation marks."
      ],
      "metadata": {
        "id": "H1L7LctHvuQ_"
      }
    },
    {
      "cell_type": "code",
      "source": [
        "print(\"Ujjwal\")\n",
        "print('A')\n",
        "print('''B''')\n",
        "print(\"Python is the most popular programming language\")\n",
        "\n",
        "\n",
        "print(1234567890)\n",
        "print(99.99)\n",
        "\n",
        "print(\"150$\")\n",
        "print(\"***\")\n",
        "print(\"@\")"
      ],
      "metadata": {
        "colab": {
          "base_uri": "https://localhost:8080/"
        },
        "id": "Le5yFOYQu55O",
        "outputId": "347903d8-63b8-45d7-890d-ecef19bea93c"
      },
      "execution_count": 6,
      "outputs": [
        {
          "output_type": "stream",
          "name": "stdout",
          "text": [
            "Ujjwal\n",
            "A\n",
            "B\n",
            "Python is the most popular programming language\n",
            "1234567890\n",
            "99.99\n",
            "150$\n",
            "***\n",
            "@\n"
          ]
        }
      ]
    },
    {
      "cell_type": "markdown",
      "source": [
        "# How to comment or write anything in between your codes\n",
        "\n",
        " use Hastah-# for single line comment\n",
        " use triple quoataion marks for\n",
        "\n",
        "'''\n",
        "\n",
        "'''  - Triple quotation marks for Multi-line comment"
      ],
      "metadata": {
        "id": "0mnQL2OcxVb1"
      }
    },
    {
      "cell_type": "code",
      "source": [
        "print(\"A\")\n",
        "print(\"C\")\n",
        "print(\"E\")\n",
        "# I am printing letters with a gap of 1.\n",
        "print(\"g\")\n",
        "print(\"i\")\n",
        "# This was my access code for accessing confidential information from server\n",
        "print(123456789013020)\n",
        "\n",
        "'''\n",
        "This is my first python class in which we are going to learn about\n",
        "Python basics\n",
        "'''\n",
        "# This is my first python class in which we are going to learn about\n",
        "# Python basics\n",
        "\n",
        "print(\"ABCD\")"
      ],
      "metadata": {
        "colab": {
          "base_uri": "https://localhost:8080/"
        },
        "id": "SN9WXH11xamE",
        "outputId": "af7f93a6-ea2a-4728-d9b7-d1923302e526"
      },
      "execution_count": 10,
      "outputs": [
        {
          "output_type": "stream",
          "name": "stdout",
          "text": [
            "A\n",
            "C\n",
            "E\n",
            "g\n",
            "i\n",
            "123456789013020\n",
            "ABCD\n"
          ]
        }
      ]
    },
    {
      "cell_type": "markdown",
      "source": [
        "# How to create a variable and how to store data in it.\n",
        "\n",
        "Variables are like containers in which i am going to store something."
      ],
      "metadata": {
        "id": "AXYHDb1T2JGO"
      }
    },
    {
      "cell_type": "code",
      "source": [
        "a=\"Ujjwal\"\n",
        "variable_first = \"Rohan scored 95 in 12th\"\n",
        "x=123"
      ],
      "metadata": {
        "id": "eA6zDmpB2MZ1"
      },
      "execution_count": 16,
      "outputs": []
    },
    {
      "cell_type": "code",
      "source": [
        "print(a)\n",
        "print(variable_first)\n",
        "print(a)\n",
        "print(x)"
      ],
      "metadata": {
        "colab": {
          "base_uri": "https://localhost:8080/"
        },
        "id": "TD1WhySD29hh",
        "outputId": "ce6eb203-27ba-4938-8cff-8c3209d6d6ff"
      },
      "execution_count": 17,
      "outputs": [
        {
          "output_type": "stream",
          "name": "stdout",
          "text": [
            "Ujjwal\n",
            "Rohan scored 95 in 12th\n",
            "Ujjwal\n",
            "123\n"
          ]
        }
      ]
    },
    {
      "cell_type": "code",
      "source": [
        "name=\"Ujjwal\"\n",
        "age=\"32\"\n",
        "phone_no=1234567890"
      ],
      "metadata": {
        "id": "FxEPS4P73ZBq"
      },
      "execution_count": 18,
      "outputs": []
    },
    {
      "cell_type": "code",
      "source": [
        "# Print name of user\n",
        "print(name)"
      ],
      "metadata": {
        "colab": {
          "base_uri": "https://localhost:8080/"
        },
        "id": "ZUIyevDy3kuk",
        "outputId": "d605fc21-58b6-4b0a-ea1e-dbe8f78124a5"
      },
      "execution_count": 19,
      "outputs": [
        {
          "output_type": "stream",
          "name": "stdout",
          "text": [
            "Ujjwal\n"
          ]
        }
      ]
    },
    {
      "cell_type": "code",
      "source": [
        "# Print age and phone no of user\n",
        "print(age)\n",
        "print(phone_no)"
      ],
      "metadata": {
        "colab": {
          "base_uri": "https://localhost:8080/"
        },
        "id": "C1i34dAl3nw4",
        "outputId": "7c3fe1f7-9db0-4478-b41b-6f32356d078d"
      },
      "execution_count": 21,
      "outputs": [
        {
          "output_type": "stream",
          "name": "stdout",
          "text": [
            "32\n",
            "1234567890\n"
          ]
        }
      ]
    },
    {
      "cell_type": "markdown",
      "source": [
        "# Rules for variables naming-\n",
        "\n",
        "1) Variable name cannot start with a number, but you can use them later on after letter or allowed special characters.\n",
        "\n",
        "2) No special character other than _ underscore is allowed.\n",
        "\n",
        "3) Variables in Python are case sensitive"
      ],
      "metadata": {
        "id": "cKXFuJtO4qV4"
      }
    },
    {
      "cell_type": "code",
      "source": [
        "a1=\"Ujjwal\"  # VALID"
      ],
      "metadata": {
        "id": "5ULLORur42Lq"
      },
      "execution_count": 24,
      "outputs": []
    },
    {
      "cell_type": "code",
      "source": [
        "1=\"Ujjwal\"   # INVALID VARIABLE NAME"
      ],
      "metadata": {
        "id": "X4wA9Mqx5llb"
      },
      "execution_count": null,
      "outputs": []
    },
    {
      "cell_type": "code",
      "source": [
        "_abc=\"Ujjwal\"  #VALID"
      ],
      "metadata": {
        "id": "9tzArW8q5O51"
      },
      "execution_count": 30,
      "outputs": []
    },
    {
      "cell_type": "code",
      "source": [
        "@ABC=\"UJJWAL\" # INVALID VARIABLE NAME"
      ],
      "metadata": {
        "colab": {
          "base_uri": "https://localhost:8080/",
          "height": 109
        },
        "id": "PvijqHI_5mZC",
        "outputId": "3d5152ee-92c2-4c85-a6f7-4991a103865a"
      },
      "execution_count": 31,
      "outputs": [
        {
          "output_type": "error",
          "ename": "SyntaxError",
          "evalue": "invalid syntax. Maybe you meant '==' or ':=' instead of '='? (<ipython-input-31-260cf1aae11e>, line 1)",
          "traceback": [
            "\u001b[0;36m  File \u001b[0;32m\"<ipython-input-31-260cf1aae11e>\"\u001b[0;36m, line \u001b[0;32m1\u001b[0m\n\u001b[0;31m    @ABC=\"UJJWAL\"\u001b[0m\n\u001b[0m     ^\u001b[0m\n\u001b[0;31mSyntaxError\u001b[0m\u001b[0;31m:\u001b[0m invalid syntax. Maybe you meant '==' or ':=' instead of '='?\n"
          ]
        }
      ]
    },
    {
      "cell_type": "code",
      "source": [
        "# Variables in Python are case sensitive.\n",
        "\n",
        "a=\"Hello\"\n",
        "A=\"World\"\n",
        "\n",
        "print(a)\n",
        "\n",
        "abC1=123\n",
        "abc1=456\n",
        "print(abc1)"
      ],
      "metadata": {
        "colab": {
          "base_uri": "https://localhost:8080/"
        },
        "id": "KHQiplC58Lfd",
        "outputId": "a0875a38-37ba-4ff7-993f-e23212691259"
      },
      "execution_count": 37,
      "outputs": [
        {
          "output_type": "stream",
          "name": "stdout",
          "text": [
            "Hello\n",
            "456\n"
          ]
        }
      ]
    },
    {
      "cell_type": "code",
      "source": [
        "_=\"Python\"\n",
        "print(_)"
      ],
      "metadata": {
        "colab": {
          "base_uri": "https://localhost:8080/"
        },
        "id": "NJ3mJ97o6p3O",
        "outputId": "19f74b6c-f7ae-454b-de31-1e8728c61793"
      },
      "execution_count": 33,
      "outputs": [
        {
          "output_type": "stream",
          "name": "stdout",
          "text": [
            "Python\n"
          ]
        }
      ]
    },
    {
      "cell_type": "code",
      "source": [
        "# Define and print varibale in seperate seperate lines.\n",
        "\n",
        "a=1\n",
        "b=2\n",
        "c=3\n",
        "\n",
        "print(a)\n",
        "print(b)\n",
        "print(c)\n",
        "\n",
        "# Define variable and store data  and print them in a single line.\n",
        "a,b,c = 1,2,3\n",
        "print(a,b,c)\n",
        "\n",
        "name,age,phoneno = \"Ujjwal\" , 32 ,1234567890\n",
        "print(name , age , phoneno)\n"
      ],
      "metadata": {
        "colab": {
          "base_uri": "https://localhost:8080/"
        },
        "id": "zemYIedB7Jkd",
        "outputId": "1f58f0a9-7a8a-49e6-f919-f6cea770cf8f"
      },
      "execution_count": 36,
      "outputs": [
        {
          "output_type": "stream",
          "name": "stdout",
          "text": [
            "1\n",
            "2\n",
            "3\n",
            "1 2 3\n",
            "Ujjwal 32 1234567890\n"
          ]
        }
      ]
    },
    {
      "cell_type": "markdown",
      "source": [
        "# Operators in python\n",
        "\n",
        "1) Arithmetic Operators  ( Used to perform basic mathematical operation )"
      ],
      "metadata": {
        "id": "rpJ-RQNr-qM_"
      }
    },
    {
      "cell_type": "code",
      "source": [
        "print(1+2) # Addition\n",
        "print(5-2) # Substraction\n",
        "print(10*23) # Multiplication\n",
        "\n",
        "print(5**2)    # Power 5^2  = 5*5 =25\n",
        "print(2**3)    # Power 2^3  =2*2*2=8\n",
        "\n",
        "print(10/2) # Division\n",
        "\n",
        "print(13%3) # Modulus - To find Remainder\n",
        "print(27%6)"
      ],
      "metadata": {
        "colab": {
          "base_uri": "https://localhost:8080/"
        },
        "id": "CH-bRYmx-viF",
        "outputId": "fc2e46d7-8664-4aba-81c3-0609109dd22f"
      },
      "execution_count": 46,
      "outputs": [
        {
          "output_type": "stream",
          "name": "stdout",
          "text": [
            "3\n",
            "3\n",
            "230\n",
            "25\n",
            "8\n",
            "5.0\n",
            "12\n",
            "1\n",
            "3\n"
          ]
        }
      ]
    },
    {
      "cell_type": "code",
      "source": [
        "print(25//2)  # Floor division  will return 12 not 12.5 because it retirn the interger value only"
      ],
      "metadata": {
        "colab": {
          "base_uri": "https://localhost:8080/"
        },
        "id": "jwCqwXy4AH7E",
        "outputId": "09250708-0a3f-4bff-defc-891669a56f5d"
      },
      "execution_count": 47,
      "outputs": [
        {
          "output_type": "stream",
          "name": "stdout",
          "text": [
            "12\n"
          ]
        }
      ]
    },
    {
      "cell_type": "markdown",
      "source": [
        "\n",
        "x=123            - VALID\n",
        "\n",
        "x#=\"Python        - INVALID\n",
        "\n",
        "abc_1@ = \"Monday      - INVALID\n",
        "\n",
        "123_x  =\"Porgramming language\"     - INVALID   "
      ],
      "metadata": {
        "id": "Zt8i8YEl5wj6"
      }
    }
  ]
}